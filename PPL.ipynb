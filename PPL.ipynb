{
 "cells": [
  {
   "cell_type": "markdown",
   "metadata": {},
   "source": [
    "### PPL 계산하기"
   ]
  },
  {
   "cell_type": "code",
   "execution_count": null,
   "metadata": {},
   "outputs": [],
   "source": [
    "import torch\n",
    "import torchvision.transforms as transforms\n",
    "from torchvision.models import vgg16\n",
    "from PIL import Image\n",
    "import numpy as np\n",
    "import matplotlib.pyplot as plt\n",
    "import random\n",
    "\n",
    "\n",
    "# 이미지 로드 및 전처리\n",
    "def load_image(image_path):\n",
    "    image = Image.open(image_path).convert('RGB')\n",
    "    transform = transforms.Compose([\n",
    "        transforms.Resize((224, 224)),  # VGG16 입력 크기\n",
    "        transforms.ToTensor(),\n",
    "        transforms.Normalize(mean=[0.485, 0.456, 0.406], std=[0.229, 0.224, 0.225]),\n",
    "    ])\n",
    "    return transform(image).unsqueeze(0)\n",
    "\n",
    "# 특징 벡터 추출\n",
    "def extract_features(model, image_tensor):\n",
    "    with torch.no_grad():\n",
    "        features = model(image_tensor)\n",
    "    return features\n",
    "\n",
    "# Euclidean 거리 계산\n",
    "def euclidean_distance(a, b):\n",
    "    return torch.norm(a - b).item()\n",
    "\n",
    "# Perceptual Path Length 계산\n",
    "def perceptual_path_length(images, model):\n",
    "    features = [extract_features(model, load_image(img_path)).flatten() for img_path in images]\n",
    "    distances = [euclidean_distance(features[i], features[i + 1]) for i in range(len(features) - 1)]\n",
    "    return sum(distances), distances\n",
    "\n",
    "# 이미지 경로 설정\n",
    "image_paths = ['dog_t_ep1.jpg','dog_t.jpg','dog_t_ep2.jpg']  # 이미지 경로를 적절히 수정하세요.\n",
    "\n",
    "# VGG16 모델 로드\n",
    "model = vgg16(pretrained=True).eval()\n",
    "model = torch.nn.Sequential(*list(model.children())[:-1])  # 마지막 분류 층 제거\n",
    "\n",
    "# PPL 계산\n",
    "total_ppl, distances = perceptual_path_length(image_paths, model)\n",
    "print(f\"Total Perceptual Path Length: {total_ppl}\")\n",
    "\n",
    "# 각 막대의 색상 지정\n",
    "colors = [\"orange\", \"green\"]\n",
    "\n",
    "# 결과 시각화\n",
    "plt.figure(figsize=(4, 8))\n",
    "plt.bar(range(len(distances)), distances, color=colors, tick_label=[f'Path {i+1}' for i in range(len(distances))])\n",
    "plt.xlabel('Image Pairs')\n",
    "plt.ylabel('Perceptual Distance')\n",
    "plt.title('Perceptual Path Length Between Images')\n",
    "plt.show()\n"
   ]
  }
 ],
 "metadata": {
  "kernelspec": {
   "display_name": "yoonseok",
   "language": "python",
   "name": "yoonseok"
  },
  "language_info": {
   "name": "python",
   "version": "3.8.8"
  }
 },
 "nbformat": 4,
 "nbformat_minor": 2
}
